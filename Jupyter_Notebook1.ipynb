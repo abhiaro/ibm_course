{
 "cells": [
  {
   "cell_type": "markdown",
   "metadata": {},
   "source": [
    "<center>\n",
    "    <img src=\"https://cf-courses-data.s3.us.cloud-object-storage.appdomain.cloud/IBMDeveloperSkillsNetwork-DS0105EN-SkillsNetwork/labs/Module2/images/SN_web_lightmode.png\" width=\"300\" alt=\"cognitiveclass.ai logo\">\n",
    "</center>\n"
   ]
  },
  {
   "cell_type": "markdown",
   "metadata": {},
   "source": [
    "#### Add your code below following the instructions given in the course\n"
   ]
  },
  {
   "cell_type": "markdown",
   "metadata": {},
   "source": [
    "# My Jupyter Notebook on IBM Watson Studio"
   ]
  },
  {
   "cell_type": "markdown",
   "metadata": {},
   "source": [
    "**ABHISHEK ARORA**\n",
    "<br>product manager in a manufacturing firm"
   ]
  },
  {
   "cell_type": "markdown",
   "metadata": {},
   "source": [
    "*i really like the idea of making some revelation from seemingly ordinary data and <br> I think it is simply art to derive proper conclusion. This makes me excited to be part of this field as a creative and curious person*"
   ]
  },
  {
   "cell_type": "markdown",
   "metadata": {},
   "source": [
    "### This code will present my thanks to the IBM team for creating such a wonderful course (10 times)"
   ]
  },
  {
   "cell_type": "code",
   "execution_count": 6,
   "metadata": {},
   "outputs": [
    {
     "name": "stdout",
     "output_type": "stream",
     "text": [
      "Thanks! to the creator of this wonderful course: TEAM IBM \n",
      "Thanks! to the creator of this wonderful course: TEAM IBM \n",
      "Thanks! to the creator of this wonderful course: TEAM IBM \n",
      "Thanks! to the creator of this wonderful course: TEAM IBM \n",
      "Thanks! to the creator of this wonderful course: TEAM IBM \n",
      "Thanks! to the creator of this wonderful course: TEAM IBM \n",
      "Thanks! to the creator of this wonderful course: TEAM IBM \n",
      "Thanks! to the creator of this wonderful course: TEAM IBM \n",
      "Thanks! to the creator of this wonderful course: TEAM IBM \n",
      "Thanks! to the creator of this wonderful course: TEAM IBM \n",
      "\n"
     ]
    }
   ],
   "source": [
    "print(\"Thanks! to the creator of this wonderful course: TEAM IBM \\n\"*10)"
   ]
  },
  {
   "cell_type": "markdown",
   "metadata": {},
   "source": [
    "- this is bulleted <br>\n",
    "<strike> this one got striked </strike>\n",
    "\n",
    "|task | accomplished|\n",
    "|-----|-------------|\n",
    "|module 2| is it? Peers Help|"
   ]
  },
  {
   "cell_type": "code",
   "execution_count": null,
   "metadata": {},
   "outputs": [],
   "source": []
  }
 ],
 "metadata": {
  "kernelspec": {
   "display_name": "Python",
   "language": "python",
   "name": "conda-env-python-py"
  },
  "language_info": {
   "codemirror_mode": {
    "name": "ipython",
    "version": 3
   },
   "file_extension": ".py",
   "mimetype": "text/x-python",
   "name": "python",
   "nbconvert_exporter": "python",
   "pygments_lexer": "ipython3",
   "version": "3.7.12"
  }
 },
 "nbformat": 4,
 "nbformat_minor": 4
}
