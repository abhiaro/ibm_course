{
 "cells": [
  {
   "cell_type": "markdown",
   "id": "7dccfafd",
   "metadata": {},
   "source": [
    "# PEER-GRADED ASSIGNMENT FOR MODULE 2"
   ]
  },
  {
   "cell_type": "markdown",
   "id": "fa50598a",
   "metadata": {},
   "source": [
    "**1) INTRODUCTION:**<br> Hi, I am Abhishek Arora. Currently i am working as a product manager for a manufacturing firm in India. Learning Data Science skill I was to grade up and be future ready for new challenges coming in my field. In this assignment I would like to demonstrate my learning by completing the tasks assigned. I sincerly appreciate the efforts of my Peer who take time to go through this assignment and reviewed my performance."
   ]
  },
  {
   "cell_type": "markdown",
   "id": "fc746148",
   "metadata": {},
   "source": []
  },
  {
   "cell_type": "markdown",
   "id": "0456b074",
   "metadata": {},
   "source": [
    "**Data Science languages:**<br>\n",
    "    python, java, matlab,r-studio,sql, c++"
   ]
  },
  {
   "cell_type": "markdown",
   "id": "ec77ecf6",
   "metadata": {},
   "source": [
    "**DATA SCIENCE LIBRARIES:**<br>\n",
    "NUMPY, PANDAS, SCIKITLEARN,KERAS, TENSORFLOW etc.\n",
    "\n",
    "**DATA SCIENCE Tools:**<br>\n",
    "\n",
    "|S.no| Description             |        Examples                   |\n",
    "|----|-------------------------|-----------------------------------|\n",
    "|a| Data Management| ibm DB2, oracle, sqlserver|\n",
    "|b|Data integration and transformation|talend,informatica, watson studio|\n",
    "|c| Data visualization|powerbi,tableau|\n",
    "|d| Model Building|Sas, spss, watson studio|\n",
    "|e| Model Deployment|IBM SPSS|\n",
    "|f| Model monitoring and assessment|informatica|\n",
    "\n",
    "\n",
    "### arithmetic expressions\n",
    "\n",
    "- arithmetic expressions have two components: operators and operands.<br>\n",
    "- operators like: +,-,*,**..<br>\n",
    "- operands are numerical data types: 1,2.3,500 etc.<br>\n",
    "- examples are:<br>\n",
    "a. 1+3-4<br>\n",
    "b.45**6+2<br>\n"
   ]
  },
  {
   "cell_type": "markdown",
   "id": "7b827d4f",
   "metadata": {},
   "source": [
    "**OBJECTIVES**\n",
    "\n",
    "a\tData Management<br>\n",
    "b\tData integration and transformation<br>\n",
    "c\tData visualization<br>\n",
    "d\tModel Building<br>\n",
    "e\tModel Deployment<br>\n",
    "f\tModel monitoring and assessment\t<br>"
   ]
  },
  {
   "cell_type": "code",
   "execution_count": 11,
   "id": "bbde5e3d",
   "metadata": {},
   "outputs": [
    {
     "name": "stdout",
     "output_type": "stream",
     "text": [
      "1st number5\n",
      "2nd number6\n",
      "summation of numbers is: 11\n",
      "multiplication of numbers is: 30\n"
     ]
    }
   ],
   "source": [
    "# Multiply & Add numbers\n",
    "a= int(input(\"1st number\"))\n",
    "b= int(input(\"2nd number\"))\n",
    "print(\"summation of numbers is:\",a+b)\n",
    "print(\"multiplication of numbers is:\",a*b)"
   ]
  },
  {
   "cell_type": "code",
   "execution_count": 10,
   "id": "c4cdb60a",
   "metadata": {},
   "outputs": [
    {
     "name": "stdout",
     "output_type": "stream",
     "text": [
      "number of minutes you want to convert to hours?153\n",
      "your no of hours converted is:  2.55\n"
     ]
    }
   ],
   "source": [
    "# Minutes to hours.\n",
    "minu = input(\"number of minutes you want to convert to hours?\")\n",
    "hr=int(minu)/60\n",
    "print(\"your no of hours converted is: \", hr)"
   ]
  },
  {
   "cell_type": "code",
   "execution_count": null,
   "id": "2892b7fa",
   "metadata": {},
   "outputs": [],
   "source": [
    "Objectives:\n",
    "    1. Learn Python Programming.\n",
    "    2. learn the basics of SQL.\n",
    "    \n",
    "    3. Learn Devops."
   ]
  },
  {
   "cell_type": "markdown",
   "id": "e1797020",
   "metadata": {},
   "source": [
    "**AUTHOR:** Abhishek Arora"
   ]
  },
  {
   "cell_type": "code",
   "execution_count": null,
   "id": "a3bbeecf",
   "metadata": {},
   "outputs": [],
   "source": []
  }
 ],
 "metadata": {
  "kernelspec": {
   "display_name": "Python 3 (ipykernel)",
   "language": "python",
   "name": "python3"
  },
  "language_info": {
   "codemirror_mode": {
    "name": "ipython",
    "version": 3
   },
   "file_extension": ".py",
   "mimetype": "text/x-python",
   "name": "python",
   "nbconvert_exporter": "python",
   "pygments_lexer": "ipython3",
   "version": "3.9.7"
  }
 },
 "nbformat": 4,
 "nbformat_minor": 5
}
